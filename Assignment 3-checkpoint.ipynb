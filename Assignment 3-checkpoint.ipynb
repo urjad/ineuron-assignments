{
 "cells": [
  {
   "cell_type": "markdown",
   "id": "c81c943f",
   "metadata": {},
   "source": [
    "1. Why are functions advantageous to have in your programs?\n",
    "\n",
    "-- reusibility of the code, short and easy to use, update  and understand.\n",
    "\n",
    "2. When does the code in a function run: when it's specified or when it's called?\n",
    "\n",
    "--when it's called.\n",
    "\n",
    "3. What statement creates a function?\n",
    "\n",
    "-- the def keyword creates a function\n",
    "\n",
    "4. What is the difference between a function and a function call?\n",
    "\n",
    "-- A function contains the defination or the code to execute a part of the code and when we have to use the function we use function call.\n",
    "\n",
    "5. How many global scopes are there in a Python program? How many local scopes?\n",
    "\n",
    "--There is one global and local scope that is created when the function is called.\n",
    "\n",
    "6. What happens to variables in a local scope when the function call returns?\n",
    "\n",
    "-- The variable cannot be used as the memory of it is destroyed.\n",
    "\n",
    "7. What is the concept of a return value? Is it possible to have a return value in an expression?\n",
    "\n",
    "--A return value is the answer to the exxpression evaluated to. And the return value can be useed in an expression.\n",
    "\n",
    "8. If a function does not have a return statement, what is the return value of a call to that function?\n",
    "\n",
    "-- it will have a nonetype return value.\n",
    "\n",
    "9. How do you make a function variable refer to the global variable?\n",
    "\n",
    "-- A global statement will force a variable in a function to refer to the global variable.\n",
    "\n",
    "10. What is the data type of None?\n",
    "\n",
    "-- It is NoneType.\n",
    "11. What does the sentence import areallyourpetsnamederic do?\n",
    "\n",
    "-- it will import  the file areallyourpetsnamederic, but as this module doesn't exist it show an error.\n",
    "\n",
    "12. If you had a bacon() feature in a spam module, what would you call it after importing spam?\n",
    "\n",
    "--spam.bacon()\n",
    "\n",
    "13. What can you do to save a programme from crashing if it encounters an error?\n",
    "--place the code of error in try module.\n",
    "\n",
    "14. What is the purpose of the try clause? What is the purpose of the except clause?\n",
    "-- the statement that causes an error\n",
    "-- If the error is encountered then except block is excuted.\n"
   ]
  },
  {
   "cell_type": "code",
   "execution_count": null,
   "id": "cc19e2ac",
   "metadata": {},
   "outputs": [],
   "source": []
  },
  {
   "cell_type": "code",
   "execution_count": null,
   "id": "01da585b",
   "metadata": {},
   "outputs": [],
   "source": []
  }
 ],
 "metadata": {
  "kernelspec": {
   "display_name": "Python 3 (ipykernel)",
   "language": "python",
   "name": "python3"
  },
  "language_info": {
   "codemirror_mode": {
    "name": "ipython",
    "version": 3
   },
   "file_extension": ".py",
   "mimetype": "text/x-python",
   "name": "python",
   "nbconvert_exporter": "python",
   "pygments_lexer": "ipython3",
   "version": "3.9.7"
  }
 },
 "nbformat": 4,
 "nbformat_minor": 5
}
